{
  "nbformat": 4,
  "nbformat_minor": 0,
  "metadata": {
    "colab": {
      "name": "Untitled0.ipynb",
      "provenance": []
    },
    "kernelspec": {
      "name": "python3",
      "display_name": "Python 3"
    },
    "language_info": {
      "name": "python"
    }
  },
  "cells": [
    {
      "cell_type": "code",
      "metadata": {
        "_cell_guid": "61791595-0387-442f-9d9c-8ae50323fea2",
        "_uuid": "2167ade64955082a54b122491997afde731a6624",
        "collapsed": true,
        "jupyter": {
          "outputs_hidden": true
        },
        "id": "AzYE1EB-ANv5"
      },
      "source": [
        "import numpy as np # linear algebra\n",
        "import pandas as pd # data processing, CSV file I/O (e.g. pd.read_csv)\n",
        "import matplotlib.pyplot as plt # for plotting and visualozing data"
      ],
      "execution_count": null,
      "outputs": []
    },
    {
      "cell_type": "code",
      "metadata": {
        "_cell_guid": "621125e7-b216-41ad-ab85-689a882aff89",
        "_uuid": "6998635ba361887c513315ab4d09eb659ae5f8a8",
        "collapsed": true,
        "jupyter": {
          "outputs_hidden": true
        },
        "id": "VGS-FcQiANv7"
      },
      "source": [
        "#our dataset\n",
        "fruits=pd.read_table('/content/fruit_data_with_colors.txt')"
      ],
      "execution_count": null,
      "outputs": []
    },
    {
      "cell_type": "markdown",
      "metadata": {
        "_cell_guid": "95a69e06-07e2-4dc5-a1db-60d61955d876",
        "_uuid": "0dac8ae5159670925412662863a86f5ba5bade11",
        "id": "flhmcxZeANv7"
      },
      "source": [
        "We have loaded our dataset, now we will check it's first five rows to check how our data looks, which features our data have."
      ]
    },
    {
      "cell_type": "code",
      "metadata": {
        "_cell_guid": "a90a4fad-924f-48ba-95f6-dc7a6f5dcf61",
        "_uuid": "0b998e6097e66f862e8cc5db686810e50d824ad5",
        "id": "OT-MGy3wANv8"
      },
      "source": [
        "#checking first five rows of our dataset\n",
        "fruits.head()"
      ],
      "execution_count": null,
      "outputs": []
    },
    {
      "cell_type": "code",
      "metadata": {
        "id": "SKbTQY-1ANv9"
      },
      "source": [
        "# create a mapping from fruit label value to fruit name to make results easier to interpret\n",
        "predct = dict(zip(fruits.fruit_label.unique(), fruits.fruit_name.unique()))   \n",
        "predct"
      ],
      "execution_count": null,
      "outputs": []
    },
    {
      "cell_type": "markdown",
      "metadata": {
        "_cell_guid": "9397e208-321b-4d12-a1b6-4cce90e1819b",
        "_uuid": "ab1b39e4275b68e87caf0fc163d64f13e369dd4d",
        "id": "TXXVn3bDANv9"
      },
      "source": [
        "Dataset have seven columns containing the information about fruits. Here only two fruits i.e apple and mandarin are seen. Every fruit is described with four features i.e 1) mass of fruit 2) width of fruit 3) what is height and 4) what is color score of fruit. Now we have to check how many fruits are present in our data. "
      ]
    },
    {
      "cell_type": "code",
      "metadata": {
        "_cell_guid": "6d337f56-af42-41c1-85e6-145b611220c6",
        "_uuid": "25a64732987bd9cf9c82971746b145f1f44df9c2",
        "id": "nd-vvfyGANv9"
      },
      "source": [
        "#checking how many unique fruit names are present in the dataset\n",
        "fruits['fruit_name'].value_counts()"
      ],
      "execution_count": null,
      "outputs": []
    },
    {
      "cell_type": "markdown",
      "metadata": {
        "_cell_guid": "d1cfd2ba-d4fd-4b21-ba11-cd128b251ce9",
        "_uuid": "14defd790dd4d0bf350e1d673a368cbcf4099049",
        "id": "_fai2tSxANv-"
      },
      "source": [
        "We have seen that the dataset contains four unique fruits. apple with 19 entries, orange with 19 entries, lemon with 16 entries and mandarin with 5 entries. "
      ]
    },
    {
      "cell_type": "markdown",
      "metadata": {
        "_cell_guid": "77a1edac-fd53-4b29-bf56-d88a81f3bf8b",
        "_uuid": "2b7ecc52f171c000b9bfa2533ea2de424e691914",
        "id": "k2WigS6sANv-"
      },
      "source": [
        "Now we will store all unique data on four different dataframes."
      ]
    },
    {
      "cell_type": "code",
      "metadata": {
        "_cell_guid": "7f1debc2-891e-4fa1-9b61-12425438c563",
        "_uuid": "33856b8a7b1a421d251336f0023b09374860acc3",
        "collapsed": true,
        "jupyter": {
          "outputs_hidden": true
        },
        "id": "ZxzmVc3HANv-"
      },
      "source": [
        "apple_data=fruits[fruits['fruit_name']=='apple']\n",
        "orange_data=fruits[fruits['fruit_name']=='orange']\n",
        "lemon_data=fruits[fruits['fruit_name']=='lemon']\n",
        "mandarin_data=fruits[fruits['fruit_name']=='mandarin']"
      ],
      "execution_count": null,
      "outputs": []
    },
    {
      "cell_type": "code",
      "metadata": {
        "_cell_guid": "8911ec35-e7c7-4dcc-b86b-0f2a6565831d",
        "_uuid": "a38c65231a02433c0e86d984b2627e0866d0e0fe",
        "colab": {
          "base_uri": "https://localhost:8080/",
          "height": 163
        },
        "id": "aKWh185VANv_",
        "outputId": "39fe78b8-49c4-4e0e-9401-23aa72b77009"
      },
      "source": [
        "apple_data.head()"
      ],
      "execution_count": 3,
      "outputs": [
        {
          "output_type": "error",
          "ename": "NameError",
          "evalue": "ignored",
          "traceback": [
            "\u001b[0;31m---------------------------------------------------------------------------\u001b[0m",
            "\u001b[0;31mNameError\u001b[0m                                 Traceback (most recent call last)",
            "\u001b[0;32m<ipython-input-3-4fd6973e2831>\u001b[0m in \u001b[0;36m<module>\u001b[0;34m()\u001b[0m\n\u001b[0;32m----> 1\u001b[0;31m \u001b[0mapple_data\u001b[0m\u001b[0;34m.\u001b[0m\u001b[0mhead\u001b[0m\u001b[0;34m(\u001b[0m\u001b[0;34m)\u001b[0m\u001b[0;34m\u001b[0m\u001b[0;34m\u001b[0m\u001b[0m\n\u001b[0m",
            "\u001b[0;31mNameError\u001b[0m: name 'apple_data' is not defined"
          ]
        }
      ]
    },
    {
      "cell_type": "code",
      "metadata": {
        "_cell_guid": "ce2fafb4-38e0-4c16-bc20-f3e4dadd5426",
        "_uuid": "8f7c5fd8eedf970a23c80f0bf1bf0ec7fc2a6760",
        "colab": {
          "base_uri": "https://localhost:8080/",
          "height": 163
        },
        "id": "8GpKOfOOANv_",
        "outputId": "e4d1a52b-d180-4205-a54a-a3b8c0d45f80"
      },
      "source": [
        "mandarin_data.head()"
      ],
      "execution_count": 4,
      "outputs": [
        {
          "output_type": "error",
          "ename": "NameError",
          "evalue": "ignored",
          "traceback": [
            "\u001b[0;31m---------------------------------------------------------------------------\u001b[0m",
            "\u001b[0;31mNameError\u001b[0m                                 Traceback (most recent call last)",
            "\u001b[0;32m<ipython-input-4-ec4483eee2a4>\u001b[0m in \u001b[0;36m<module>\u001b[0;34m()\u001b[0m\n\u001b[0;32m----> 1\u001b[0;31m \u001b[0mmandarin_data\u001b[0m\u001b[0;34m.\u001b[0m\u001b[0mhead\u001b[0m\u001b[0;34m(\u001b[0m\u001b[0;34m)\u001b[0m\u001b[0;34m\u001b[0m\u001b[0;34m\u001b[0m\u001b[0m\n\u001b[0m",
            "\u001b[0;31mNameError\u001b[0m: name 'mandarin_data' is not defined"
          ]
        }
      ]
    },
    {
      "cell_type": "code",
      "metadata": {
        "_cell_guid": "f98a459e-ae3e-452d-8ab6-a5548afaa23b",
        "_uuid": "65e717af26e8ea9a1a28fba3d4f4de9295e35c07",
        "colab": {
          "base_uri": "https://localhost:8080/",
          "height": 163
        },
        "id": "4LGARBIaANv_",
        "outputId": "f9ba831a-6852-45b7-f55b-a10e647734d4"
      },
      "source": [
        "orange_data.head()"
      ],
      "execution_count": 5,
      "outputs": [
        {
          "output_type": "error",
          "ename": "NameError",
          "evalue": "ignored",
          "traceback": [
            "\u001b[0;31m---------------------------------------------------------------------------\u001b[0m",
            "\u001b[0;31mNameError\u001b[0m                                 Traceback (most recent call last)",
            "\u001b[0;32m<ipython-input-5-36959d33b0a5>\u001b[0m in \u001b[0;36m<module>\u001b[0;34m()\u001b[0m\n\u001b[0;32m----> 1\u001b[0;31m \u001b[0morange_data\u001b[0m\u001b[0;34m.\u001b[0m\u001b[0mhead\u001b[0m\u001b[0;34m(\u001b[0m\u001b[0;34m)\u001b[0m\u001b[0;34m\u001b[0m\u001b[0;34m\u001b[0m\u001b[0m\n\u001b[0m",
            "\u001b[0;31mNameError\u001b[0m: name 'orange_data' is not defined"
          ]
        }
      ]
    },
    {
      "cell_type": "code",
      "metadata": {
        "_cell_guid": "3d7d8572-128e-4cf5-9569-f9459b103f39",
        "_uuid": "e777517faf3ff0cfdf4e3c102eac85dc0e6af113",
        "id": "HCPTxkb5ANv_"
      },
      "source": [
        "lemon_data.head()"
      ],
      "execution_count": null,
      "outputs": []
    },
    {
      "cell_type": "markdown",
      "metadata": {
        "_cell_guid": "53ed5842-7b8f-44fe-b63f-964fcc2122e0",
        "_uuid": "133f2d1013c9d8d83ef69aaaeeba448253365fe3",
        "id": "RuogCRWuANwA"
      },
      "source": [
        "By looking above data, it is shown that for every fruit there is a fruit_label. For apple it is 1, for mandarin it is 2, for orange it is 3 and for lemon it is 4. Now we will visualize this data on plots for further exploration."
      ]
    },
    {
      "cell_type": "code",
      "metadata": {
        "_cell_guid": "4aad2827-d2dc-4a37-b131-135e5a2f842b",
        "_uuid": "a4d36907b1074fe07c5b88d4f7b54dd92516d917",
        "id": "W9BgHw5-ANwA"
      },
      "source": [
        "plt.scatter(fruits['width'],fruits['height'])"
      ],
      "execution_count": null,
      "outputs": []
    },
    {
      "cell_type": "code",
      "metadata": {
        "_cell_guid": "5db6dc9f-6de1-4dbc-b3d6-099664c552b8",
        "_uuid": "9ff0667f552d5632d39ab9bd747c8fff95e59cad",
        "colab": {
          "base_uri": "https://localhost:8080/",
          "height": 163
        },
        "id": "kan-T4K1ANwA",
        "outputId": "482eb5fc-7841-43d1-c04d-1f91b25faf42"
      },
      "source": [
        "plt.scatter(fruits['mass'],fruits['color_score'])"
      ],
      "execution_count": 6,
      "outputs": [
        {
          "output_type": "error",
          "ename": "NameError",
          "evalue": "ignored",
          "traceback": [
            "\u001b[0;31m---------------------------------------------------------------------------\u001b[0m",
            "\u001b[0;31mNameError\u001b[0m                                 Traceback (most recent call last)",
            "\u001b[0;32m<ipython-input-6-d620c6844ad4>\u001b[0m in \u001b[0;36m<module>\u001b[0;34m()\u001b[0m\n\u001b[0;32m----> 1\u001b[0;31m \u001b[0mplt\u001b[0m\u001b[0;34m.\u001b[0m\u001b[0mscatter\u001b[0m\u001b[0;34m(\u001b[0m\u001b[0mfruits\u001b[0m\u001b[0;34m[\u001b[0m\u001b[0;34m'mass'\u001b[0m\u001b[0;34m]\u001b[0m\u001b[0;34m,\u001b[0m\u001b[0mfruits\u001b[0m\u001b[0;34m[\u001b[0m\u001b[0;34m'color_score'\u001b[0m\u001b[0;34m]\u001b[0m\u001b[0;34m)\u001b[0m\u001b[0;34m\u001b[0m\u001b[0;34m\u001b[0m\u001b[0m\n\u001b[0m",
            "\u001b[0;31mNameError\u001b[0m: name 'plt' is not defined"
          ]
        }
      ]
    },
    {
      "cell_type": "code",
      "metadata": {
        "_cell_guid": "63268683-8c08-4713-9430-1dfe89850317",
        "_uuid": "ee443e6386cf66a9d9a12880135744c88a12f7e4",
        "id": "IwEtjHI2ANwB"
      },
      "source": [
        "plt.plot(fruits['height'],label='Height')\n",
        "plt.plot(fruits['width'],label='Width')\n",
        "plt.legend()"
      ],
      "execution_count": null,
      "outputs": []
    },
    {
      "cell_type": "markdown",
      "metadata": {
        "_cell_guid": "3f583533-ad81-45dc-8995-2d8347fd18c1",
        "_uuid": "653d0af838b23b7b51425b5af515d5d9ac195df7",
        "id": "jdZ4FUFyANwB"
      },
      "source": [
        "Now we will use K-Nearest Neighbors classifier to predict a new record on the basis of this data. For this we will aplit this dataset into test and train sets. First we will import sklearn library for our model."
      ]
    },
    {
      "cell_type": "code",
      "metadata": {
        "_cell_guid": "47f7040a-f498-474a-a9e1-c45a2f120ac2",
        "_uuid": "3463a390870410078f7fa709c8ae8fdf163d807c",
        "collapsed": true,
        "jupyter": {
          "outputs_hidden": true
        },
        "id": "UsDCeUDXANwB"
      },
      "source": [
        "from sklearn.model_selection import train_test_split\n",
        "from sklearn.neighbors import KNeighborsClassifier"
      ],
      "execution_count": null,
      "outputs": []
    },
    {
      "cell_type": "code",
      "metadata": {
        "_cell_guid": "79f90f0f-5db0-4079-b586-7356afb2296a",
        "_uuid": "7fe66b5621ecf645e14f481be77fbc416a93bb27",
        "collapsed": true,
        "jupyter": {
          "outputs_hidden": true
        },
        "id": "5BNPxI7YANwC"
      },
      "source": [
        "X=fruits[['mass','width','height']]\n",
        "Y=fruits['fruit_label']\n",
        "X_train,X_test,y_train,y_test=train_test_split(X,Y,random_state=0)"
      ],
      "execution_count": null,
      "outputs": []
    },
    {
      "cell_type": "code",
      "metadata": {
        "_cell_guid": "98f87607-9e5c-4b16-ba1d-7040913eb369",
        "_uuid": "c4c45a5b1dccca2a33c20c0a2fc5533867f00adc",
        "colab": {
          "base_uri": "https://localhost:8080/",
          "height": 163
        },
        "id": "OH3MI2TtANwC",
        "outputId": "76f8e08c-30ed-4961-cdd8-3f92640acacc"
      },
      "source": [
        "X_train.describe()"
      ],
      "execution_count": 7,
      "outputs": [
        {
          "output_type": "error",
          "ename": "NameError",
          "evalue": "ignored",
          "traceback": [
            "\u001b[0;31m---------------------------------------------------------------------------\u001b[0m",
            "\u001b[0;31mNameError\u001b[0m                                 Traceback (most recent call last)",
            "\u001b[0;32m<ipython-input-7-9d771e2afdf3>\u001b[0m in \u001b[0;36m<module>\u001b[0;34m()\u001b[0m\n\u001b[0;32m----> 1\u001b[0;31m \u001b[0mX_train\u001b[0m\u001b[0;34m.\u001b[0m\u001b[0mdescribe\u001b[0m\u001b[0;34m(\u001b[0m\u001b[0;34m)\u001b[0m\u001b[0;34m\u001b[0m\u001b[0;34m\u001b[0m\u001b[0m\n\u001b[0m",
            "\u001b[0;31mNameError\u001b[0m: name 'X_train' is not defined"
          ]
        }
      ]
    },
    {
      "cell_type": "code",
      "metadata": {
        "_cell_guid": "8abb08d5-4949-4420-8535-a1cc538d4f84",
        "_uuid": "7bc17fe92dcf0d4e8d224def9e7d42cc6e9a05c1",
        "colab": {
          "base_uri": "https://localhost:8080/",
          "height": 163
        },
        "id": "KA0yaFPcANwC",
        "outputId": "2b5fe53a-2d5e-4c0a-c69c-2bbf17ec0a12"
      },
      "source": [
        "X_test.describe()"
      ],
      "execution_count": 8,
      "outputs": [
        {
          "output_type": "error",
          "ename": "NameError",
          "evalue": "ignored",
          "traceback": [
            "\u001b[0;31m---------------------------------------------------------------------------\u001b[0m",
            "\u001b[0;31mNameError\u001b[0m                                 Traceback (most recent call last)",
            "\u001b[0;32m<ipython-input-8-f25f0ccf7aae>\u001b[0m in \u001b[0;36m<module>\u001b[0;34m()\u001b[0m\n\u001b[0;32m----> 1\u001b[0;31m \u001b[0mX_test\u001b[0m\u001b[0;34m.\u001b[0m\u001b[0mdescribe\u001b[0m\u001b[0;34m(\u001b[0m\u001b[0;34m)\u001b[0m\u001b[0;34m\u001b[0m\u001b[0;34m\u001b[0m\u001b[0m\n\u001b[0m",
            "\u001b[0;31mNameError\u001b[0m: name 'X_test' is not defined"
          ]
        }
      ]
    },
    {
      "cell_type": "markdown",
      "metadata": {
        "_cell_guid": "95dfa510-158a-43b3-b035-91ae5a31e71a",
        "_uuid": "d23774ca624d9429d9af7b4f7fafa5116d32e2ca",
        "id": "rVJDO6UEANwC"
      },
      "source": [
        "Now we will create a KNN classifier for making predictions."
      ]
    },
    {
      "cell_type": "code",
      "metadata": {
        "_cell_guid": "bb70e1de-e11d-46f9-8298-cd9b3b884c7f",
        "_uuid": "2fad886996dc00b10069bf66140106764a57f25c",
        "collapsed": true,
        "jupyter": {
          "outputs_hidden": true
        },
        "id": "wizI42M9ANwD"
      },
      "source": [
        "knn=KNeighborsClassifier()"
      ],
      "execution_count": null,
      "outputs": []
    },
    {
      "cell_type": "code",
      "metadata": {
        "_cell_guid": "d11c23e8-7594-4411-b20a-1e041528a787",
        "_uuid": "f01e54402226e90bb8b47ef1e501b595f793dde2",
        "id": "-DrfC3qWANwD"
      },
      "source": [
        "knn.fit(X_train,y_train)"
      ],
      "execution_count": null,
      "outputs": []
    },
    {
      "cell_type": "markdown",
      "metadata": {
        "_cell_guid": "515cb8fa-8345-497a-b54a-a2e6af5d2acd",
        "_uuid": "d43727ccfbbd7d6a509e36c484541bff46b9eb3a",
        "id": "RyLgUFIvANwD"
      },
      "source": [
        "We can check the accuracy of our classifier"
      ]
    },
    {
      "cell_type": "code",
      "metadata": {
        "_cell_guid": "27ec099f-6a6a-44fa-8807-fc5affe707b6",
        "_uuid": "0c697b7a091ef280ff81e06ba5a893a39aa66fb6",
        "colab": {
          "base_uri": "https://localhost:8080/",
          "height": 163
        },
        "id": "NC3FWn3SANwD",
        "outputId": "66e5b038-6d19-4ce0-9876-8878fcecac1d"
      },
      "source": [
        "knn.score(X_test,y_test)"
      ],
      "execution_count": 10,
      "outputs": [
        {
          "output_type": "error",
          "ename": "NameError",
          "evalue": "ignored",
          "traceback": [
            "\u001b[0;31m---------------------------------------------------------------------------\u001b[0m",
            "\u001b[0;31mNameError\u001b[0m                                 Traceback (most recent call last)",
            "\u001b[0;32m<ipython-input-10-d8411d266168>\u001b[0m in \u001b[0;36m<module>\u001b[0;34m()\u001b[0m\n\u001b[0;32m----> 1\u001b[0;31m \u001b[0mknn\u001b[0m\u001b[0;34m.\u001b[0m\u001b[0mscore\u001b[0m\u001b[0;34m(\u001b[0m\u001b[0mX_test\u001b[0m\u001b[0;34m,\u001b[0m\u001b[0my_test\u001b[0m\u001b[0;34m)\u001b[0m\u001b[0;34m\u001b[0m\u001b[0;34m\u001b[0m\u001b[0m\n\u001b[0m",
            "\u001b[0;31mNameError\u001b[0m: name 'knn' is not defined"
          ]
        }
      ]
    },
    {
      "cell_type": "markdown",
      "metadata": {
        "_cell_guid": "e13f316d-366b-4667-8a7b-91cd507675fd",
        "_uuid": "54e2b707a4ad2942156c93d710594188846e0032",
        "id": "jqvR8syUANwE"
      },
      "source": [
        "Now we can make predictions with new data as following:"
      ]
    },
    {
      "cell_type": "code",
      "metadata": {
        "_cell_guid": "1c645931-c3bf-4e10-8db0-9cce3b1e24ce",
        "_uuid": "6d238d499362ce659e4e96d9d4d69324cf1f00c3",
        "id": "6u6zGIAfANwE"
      },
      "source": [
        "#parameters of following function are mass,width and height\n",
        "#example1\n",
        "prediction1=knn.predict([['100','6.3','8']])\n",
        "predct[prediction1[0]]"
      ],
      "execution_count": null,
      "outputs": []
    },
    {
      "cell_type": "code",
      "metadata": {
        "_cell_guid": "e5227f57-04c1-4029-aa32-9e48118b36e9",
        "_uuid": "870d376e773ca0a35124043bbc638f19d0df9c5e",
        "id": "DRh2atNDANwE"
      },
      "source": [
        "#example2\n",
        "prediction2=knn.predict([['300','7','10']])\n",
        "predct[prediction2[0]]"
      ],
      "execution_count": null,
      "outputs": []
    },
    {
      "cell_type": "markdown",
      "metadata": {
        "id": "NmlyYAVQANwE"
      },
      "source": [
        "Yes, our model is running successfully and making accurate predictions.\n",
        "Enjoy....!"
      ]
    },
    {
      "cell_type": "code",
      "metadata": {
        "collapsed": true,
        "jupyter": {
          "outputs_hidden": true
        },
        "id": "Cl7rPdx6ANwF"
      },
      "source": [
        ""
      ],
      "execution_count": 9,
      "outputs": []
    }
  ]
}